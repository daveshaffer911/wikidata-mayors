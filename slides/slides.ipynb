{
 "cells": [
  {
   "cell_type": "markdown",
   "metadata": {
    "slideshow": {
     "slide_type": "slide"
    }
   },
   "source": [
    "# Queying and Explorring Wikidata\n",
    "\n",
    "### Nikolai Janakiev [@njanakiev](https://twitter.com/njanakiev/)"
   ]
  },
  {
   "cell_type": "markdown",
   "metadata": {
    "slideshow": {
     "slide_type": "slide"
    }
   },
   "source": [
    "# Wikidata is a Knowledge Graph"
   ]
  },
  {
   "cell_type": "markdown",
   "metadata": {
    "slideshow": {
     "slide_type": "fragment"
    }
   },
   "source": [
    "> Wikidata is a collaboratively edited knowledge base hosted by the Wikimedia Foundation. It is intended to provide a common source of data which can be used by Wikimedia projects such as Wikipedia, and by anyone else, under a public domain license. ([Source](https://en.wikipedia.org/wiki/Wikidata))"
   ]
  },
  {
   "cell_type": "markdown",
   "metadata": {
    "slideshow": {
     "slide_type": "slide"
    }
   },
   "source": [
    "![Wikipedia Wikidata Link](assets/wikipedia_wikidata_link.png)"
   ]
  },
  {
   "cell_type": "markdown",
   "metadata": {
    "slideshow": {
     "slide_type": "slide"
    }
   },
   "source": [
    "![Wikidata Data Model](assets/wikidata_data_model.png)"
   ]
  },
  {
   "cell_type": "markdown",
   "metadata": {
    "slideshow": {
     "slide_type": "slide"
    }
   },
   "source": [
    "# Resource Description Framework (RDF)"
   ]
  },
  {
   "cell_type": "markdown",
   "metadata": {
    "slideshow": {
     "slide_type": "fragment"
    }
   },
   "source": [
    "![Subject Predicate Object](assets/subject_predicate_object.png)"
   ]
  },
  {
   "cell_type": "markdown",
   "metadata": {
    "slideshow": {
     "slide_type": "slide"
    }
   },
   "source": [
    "# Querying Wikidata with SPARQL\n",
    "\n",
    "- [https://query.wikidata.org/](https://query.wikidata.org/)"
   ]
  },
  {
   "cell_type": "markdown",
   "metadata": {
    "slideshow": {
     "slide_type": "fragment"
    }
   },
   "source": [
    "![Wikidata Query](assets/wikidata_query.png)"
   ]
  },
  {
   "cell_type": "markdown",
   "metadata": {
    "slideshow": {
     "slide_type": "slide"
    }
   },
   "source": [
    "# All Goats in Wikidata"
   ]
  },
  {
   "cell_type": "markdown",
   "metadata": {
    "slideshow": {
     "slide_type": "fragment"
    }
   },
   "source": [
    "```sparql\n",
    "SELECT ?item ?itemLabel WHERE {\n",
    "  ?item wdt:P31 wd:Q2934.\n",
    "  SERVICE wikibase:label { \n",
    "    bd:serviceParam wikibase:language \"[AUTO_LANGUAGE],en\". \n",
    "  }\n",
    "}\n",
    "```\n",
    "[Query link](https://query.wikidata.org/#%23Goats%0ASELECT%20%3Fitem%20%3FitemLabel%20%0AWHERE%20%0A%7B%0A%20%20%3Fitem%20wdt%3AP31%20wd%3AQ2934.%0A%20%20SERVICE%20wikibase%3Alabel%20%7B%20bd%3AserviceParam%20wikibase%3Alanguage%20%22%5BAUTO_LANGUAGE%5D%2Cen%22.%20%7D%0A%7D)"
   ]
  },
  {
   "cell_type": "markdown",
   "metadata": {
    "slideshow": {
     "slide_type": "slide"
    }
   },
   "source": [
    "# Query Wikidata API with Python"
   ]
  },
  {
   "cell_type": "code",
   "execution_count": 1,
   "metadata": {
    "slideshow": {
     "slide_type": "fragment"
    }
   },
   "outputs": [
    {
     "data": {
      "text/plain": [
       "[{'item': {'type': 'uri', 'value': 'http://www.wikidata.org/entity/Q151345'},\n",
       "  'itemLabel': {'type': 'literal',\n",
       "   'value': 'Billygoat Hennes',\n",
       "   'xml:lang': 'en'}},\n",
       " {'item': {'type': 'uri', 'value': 'http://www.wikidata.org/entity/Q3569037'},\n",
       "  'itemLabel': {'type': 'literal',\n",
       "   'value': 'William Windsor',\n",
       "   'xml:lang': 'en'}},\n",
       " {'item': {'type': 'uri', 'value': 'http://www.wikidata.org/entity/Q5738485'},\n",
       "  'itemLabel': {'type': 'literal',\n",
       "   'value': 'Goat of the Spanish Legion',\n",
       "   'xml:lang': 'en'}},\n",
       " {'item': {'type': 'uri', 'value': 'http://www.wikidata.org/entity/Q24287064'},\n",
       "  'itemLabel': {'type': 'literal', 'value': 'Taffy', 'xml:lang': 'en'}},\n",
       " {'item': {'type': 'uri', 'value': 'http://www.wikidata.org/entity/Q41239734'},\n",
       "  'itemLabel': {'type': 'literal',\n",
       "   'value': 'Lance Corporal Shenkin III',\n",
       "   'xml:lang': 'en'}}]"
      ]
     },
     "execution_count": 1,
     "metadata": {},
     "output_type": "execute_result"
    }
   ],
   "source": [
    "import requests\n",
    "\n",
    "url = 'https://query.wikidata.org/sparql'\n",
    "query = \"\"\"\n",
    "SELECT ?item ?itemLabel WHERE {\n",
    "  ?item wdt:P31 wd:Q2934.\n",
    "  SERVICE wikibase:label { bd:serviceParam wikibase:language \"[AUTO_LANGUAGE],en\". }\n",
    "}\n",
    "\"\"\"\n",
    "\n",
    "response = requests.get(url, params = {'format': 'json', 'query': query})\n",
    "data = response.json()\n",
    "\n",
    "data['results']['bindings'][:5]"
   ]
  },
  {
   "cell_type": "markdown",
   "metadata": {
    "slideshow": {
     "slide_type": "slide"
    }
   },
   "source": [
    "# Querying and Exploring Wikidata\n",
    "\n",
    "### Nikolai Janakiev [@njanakiev](https://twitter.com/njanakiev/)\n",
    "\n",
    "- Slides @ [https://janakiev.com/wikidata-mayors/slides/](https://janakiev.com/wikidata-mayors/slides/)\n",
    "- Repository @ [https://github.com/njanakiev/osm-data-science](https://github.com/njanakiev/osm-data-science)\n",
    "\n",
    "## Resources\n",
    "\n",
    "- [Where do Mayors Come From: Querying Wikidata with Python and SPARQL](https://janakiev.com/blog/wikidata-mayors/)\n",
    "- [Wikidata:SPARQL tutorial](https://www.wikidata.org/wiki/Wikidata:SPARQL_tutorial)\n",
    "- [Wikidata Graph Builder](https://angryloki.github.io/wikidata-graph-builder/)"
   ]
  }
 ],
 "metadata": {
  "celltoolbar": "Slideshow",
  "kernelspec": {
   "display_name": "Python 3",
   "language": "python",
   "name": "python3"
  },
  "language_info": {
   "codemirror_mode": {
    "name": "ipython",
    "version": 3
   },
   "file_extension": ".py",
   "mimetype": "text/x-python",
   "name": "python",
   "nbconvert_exporter": "python",
   "pygments_lexer": "ipython3",
   "version": "3.6.3"
  }
 },
 "nbformat": 4,
 "nbformat_minor": 2
}
